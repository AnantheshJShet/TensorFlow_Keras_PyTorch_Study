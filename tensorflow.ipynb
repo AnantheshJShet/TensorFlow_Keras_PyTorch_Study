{
 "cells": [
  {
   "cell_type": "markdown",
   "metadata": {},
   "source": [
    "# MNIST Image classification using CNN in TensorFlow"
   ]
  },
  {
   "cell_type": "markdown",
   "metadata": {},
   "source": [
    "## 1. Import Modules"
   ]
  },
  {
   "cell_type": "code",
   "execution_count": 1,
   "metadata": {},
   "outputs": [],
   "source": [
    "# Import TensorFlow\n",
    "import tensorflow as tf\n",
    "# Import MNIST dataset\n",
    "from tensorflow.examples.tutorials import mnist\n",
    "# Import numpy\n",
    "import numpy as np\n",
    "# Import matplotlib\n",
    "import matplotlib.pyplot as plt"
   ]
  },
  {
   "cell_type": "markdown",
   "metadata": {},
   "source": [
    "## 2. Read in MNIST data"
   ]
  },
  {
   "cell_type": "code",
   "execution_count": 2,
   "metadata": {},
   "outputs": [
    {
     "name": "stdout",
     "output_type": "stream",
     "text": [
      "WARNING:tensorflow:From <ipython-input-2-efed16007034>:2: read_data_sets (from tensorflow.contrib.learn.python.learn.datasets.mnist) is deprecated and will be removed in a future version.\n",
      "Instructions for updating:\n",
      "Please use alternatives such as official/mnist/dataset.py from tensorflow/models.\n",
      "WARNING:tensorflow:From C:\\Anaconda\\anaconda3\\envs\\deeplearning\\lib\\site-packages\\tensorflow\\contrib\\learn\\python\\learn\\datasets\\mnist.py:260: maybe_download (from tensorflow.contrib.learn.python.learn.datasets.base) is deprecated and will be removed in a future version.\n",
      "Instructions for updating:\n",
      "Please write your own downloading logic.\n",
      "WARNING:tensorflow:From C:\\Anaconda\\anaconda3\\envs\\deeplearning\\lib\\site-packages\\tensorflow\\contrib\\learn\\python\\learn\\datasets\\mnist.py:262: extract_images (from tensorflow.contrib.learn.python.learn.datasets.mnist) is deprecated and will be removed in a future version.\n",
      "Instructions for updating:\n",
      "Please use tf.data to implement this functionality.\n",
      "Extracting MNIST_data/train-images-idx3-ubyte.gz\n",
      "WARNING:tensorflow:From C:\\Anaconda\\anaconda3\\envs\\deeplearning\\lib\\site-packages\\tensorflow\\contrib\\learn\\python\\learn\\datasets\\mnist.py:267: extract_labels (from tensorflow.contrib.learn.python.learn.datasets.mnist) is deprecated and will be removed in a future version.\n",
      "Instructions for updating:\n",
      "Please use tf.data to implement this functionality.\n",
      "Extracting MNIST_data/train-labels-idx1-ubyte.gz\n",
      "WARNING:tensorflow:From C:\\Anaconda\\anaconda3\\envs\\deeplearning\\lib\\site-packages\\tensorflow\\contrib\\learn\\python\\learn\\datasets\\mnist.py:110: dense_to_one_hot (from tensorflow.contrib.learn.python.learn.datasets.mnist) is deprecated and will be removed in a future version.\n",
      "Instructions for updating:\n",
      "Please use tf.one_hot on tensors.\n",
      "Extracting MNIST_data/t10k-images-idx3-ubyte.gz\n",
      "Extracting MNIST_data/t10k-labels-idx1-ubyte.gz\n",
      "WARNING:tensorflow:From C:\\Anaconda\\anaconda3\\envs\\deeplearning\\lib\\site-packages\\tensorflow\\contrib\\learn\\python\\learn\\datasets\\mnist.py:290: DataSet.__init__ (from tensorflow.contrib.learn.python.learn.datasets.mnist) is deprecated and will be removed in a future version.\n",
      "Instructions for updating:\n",
      "Please use alternatives such as official/mnist/dataset.py from tensorflow/models.\n"
     ]
    }
   ],
   "source": [
    "# Read data\n",
    "data = mnist.input_data.read_data_sets(\"MNIST_data/\", one_hot=True)"
   ]
  },
  {
   "cell_type": "code",
   "execution_count": 3,
   "metadata": {},
   "outputs": [
    {
     "name": "stdout",
     "output_type": "stream",
     "text": [
      "Training set (images) shape: (55000, 784)\n",
      "Training set (labels) shape: (55000, 10)\n",
      "Test set (images) shape: (10000, 784)\n",
      "Test set (labels) shape: (10000, 10)\n"
     ]
    }
   ],
   "source": [
    "# Shapes of training set\n",
    "print(\"Training set (images) shape: {shape}\".format(shape=data.train.images.shape))\n",
    "print(\"Training set (labels) shape: {shape}\".format(shape=data.train.labels.shape))\n",
    "\n",
    "# Shapes of test set\n",
    "print(\"Test set (images) shape: {shape}\".format(shape=data.test.images.shape))\n",
    "print(\"Test set (labels) shape: {shape}\".format(shape=data.test.labels.shape))\n",
    "\n",
    "image_hgt = 28\n",
    "image_wid = 28\n",
    "n_classes = 10"
   ]
  },
  {
   "cell_type": "code",
   "execution_count": 4,
   "metadata": {},
   "outputs": [],
   "source": [
    "# Create dictionary of target classes\n",
    "label_dict = {\n",
    "    0: 'Zero',\n",
    "    1: 'One',\n",
    "    2: 'Two',\n",
    "    3: 'Three',\n",
    "    4: 'Four',\n",
    "    5: 'Five',\n",
    "    6: 'Six',\n",
    "    7: 'Seven',\n",
    "    8: 'Eight',\n",
    "    9: 'Nine'\n",
    "}"
   ]
  },
  {
   "cell_type": "code",
   "execution_count": 5,
   "metadata": {},
   "outputs": [
    {
     "data": {
      "text/plain": [
       "Text(0.5, 1.0, '(Label: Two)')"
      ]
     },
     "execution_count": 5,
     "metadata": {},
     "output_type": "execute_result"
    },
    {
     "data": {
      "image/png": "[encoded data removed]",
      "text/plain": [
       "<Figure size 360x360 with 2 Axes>"
      ]
     },
     "metadata": {
      "needs_background": "light"
     },
     "output_type": "display_data"
    }
   ],
   "source": [
    "plt.figure(figsize=[5,5])\n",
    "\n",
    "# Display first image in training data\n",
    "plt.subplot(121)\n",
    "img = np.reshape(data.train.images[0], (image_hgt,image_wid))\n",
    "lbl = np.argmax(data.train.labels[0,:])\n",
    "plt.imshow(img, cmap='gray')\n",
    "plt.title(\"(Label: \" + str(label_dict[lbl]) + \")\")\n",
    "\n",
    "# Display second image in testing data\n",
    "plt.subplot(122)\n",
    "img = np.reshape(data.test.images[1], (image_hgt,image_wid))\n",
    "lbl = np.argmax(data.test.labels[1,:])\n",
    "plt.imshow(img, cmap='gray')\n",
    "plt.title(\"(Label: \" + str(label_dict[lbl]) + \")\")"
   ]
  },
  {
   "cell_type": "markdown",
   "metadata": {},
   "source": [
    "## 3. Data preprocessing"
   ]
  },
  {
   "cell_type": "code",
   "execution_count": 6,
   "metadata": {},
   "outputs": [
    {
     "name": "stdout",
     "output_type": "stream",
     "text": [
      "(55000, 28, 28, 1) (10000, 28, 28, 1)\n",
      "(55000, 10) (10000, 10)\n"
     ]
    }
   ],
   "source": [
    "# Reshape training and testing images\n",
    "train_X = data.train.images.reshape(-1, image_hgt, image_wid, 1) # number of samples, length, width, number of channels\n",
    "test_X = data.test.images.reshape(-1, image_hgt, image_wid, 1) # number of samples, length, width, number of channels\n",
    "print(train_X.shape, test_X.shape)\n",
    "\n",
    "train_Y = data.train.labels\n",
    "test_Y = data.test.labels\n",
    "print(train_Y.shape, test_Y.shape)"
   ]
  },
  {
   "cell_type": "markdown",
   "metadata": {},
   "source": [
    "## 4. Training Parameters"
   ]
  },
  {
   "cell_type": "code",
   "execution_count": 7,
   "metadata": {},
   "outputs": [],
   "source": [
    "learning_rate = 0.01\n",
    "epochs = 50\n",
    "batch_size = 64"
   ]
  },
  {
   "cell_type": "markdown",
   "metadata": {},
   "source": [
    "## 5. Model"
   ]
  },
  {
   "cell_type": "markdown",
   "metadata": {},
   "source": [
    "### 5.1. Helper Functions"
   ]
  },
  {
   "cell_type": "code",
   "execution_count": 8,
   "metadata": {},
   "outputs": [
    {
     "name": "stdout",
     "output_type": "stream",
     "text": [
      "WARNING:tensorflow:From C:\\Anaconda\\anaconda3\\envs\\deeplearning\\lib\\site-packages\\tensorflow\\python\\framework\\op_def_library.py:263: colocate_with (from tensorflow.python.framework.ops) is deprecated and will be removed in a future version.\n",
      "Instructions for updating:\n",
      "Colocations handled automatically by placer.\n"
     ]
    }
   ],
   "source": [
    "# Weights dictionary        \n",
    "weight_dict = {\n",
    "    'filterWC1' : tf.get_variable('FWC1', shape=(3,3,1,32), initializer=tf.contrib.layers.xavier_initializer()),\n",
    "    'filterWC2' : tf.get_variable('FWC2', shape=(3,3,32,64), initializer=tf.contrib.layers.xavier_initializer()),\n",
    "    'fullyConnW' : tf.get_variable('FCW', shape=(7*7*64,64), initializer=tf.contrib.layers.xavier_initializer()),\n",
    "    'OutputW' : tf.get_variable('OW', shape=(64,n_classes), initializer=tf.contrib.layers.xavier_initializer())\n",
    "}\n",
    "\n",
    "bias_dict = {\n",
    "    'filterBC1' : tf.get_variable('FBC1', shape=(32), initializer=tf.contrib.layers.xavier_initializer()),\n",
    "    'filterBC2' : tf.get_variable('FBC2', shape=(64), initializer=tf.contrib.layers.xavier_initializer()),\n",
    "    'fullyConnB' : tf.get_variable('FCB', shape=(64), initializer=tf.contrib.layers.xavier_initializer()),\n",
    "    'OutputB' : tf.get_variable('OB', shape=(n_classes), initializer=tf.contrib.layers.xavier_initializer())\n",
    "}"
   ]
  },
  {
   "cell_type": "code",
   "execution_count": 9,
   "metadata": {},
   "outputs": [],
   "source": [
    "# Helper functions\n",
    "def conv2d(inp, filter_weight, filter_bias, strides=1):\n",
    "    inp = tf.nn.conv2d(inp, filter_weight, strides = [1, strides, strides, 1], padding = 'SAME')\n",
    "    inp = tf.nn.bias_add(inp, filter_bias)\n",
    "    return tf.nn.relu(inp)\n",
    "\n",
    "def maxpool2d(inp, ksize=2):\n",
    "    return tf.nn.max_pool(inp, ksize = [1, ksize, ksize, 1], strides = [1, ksize, ksize, 1], padding = 'SAME')\n",
    "    \n",
    "def flatten(inp, size):\n",
    "    return tf.reshape(inp, [-1, size])\n",
    "    \n",
    "def fc(inp, fc_weight, fc_bias):\n",
    "    fc = tf.matmul(inp, fc_weight)\n",
    "    fc = tf.add(fc, fc_bias)\n",
    "    return tf.nn.relu(fc)\n",
    "    \n",
    "def out(inp, out_weight, out_bias):\n",
    "    out = tf.matmul(inp, out_weight)\n",
    "    return tf.add(out, out_bias)"
   ]
  },
  {
   "cell_type": "markdown",
   "metadata": {},
   "source": [
    "### 5.2. Network"
   ]
  },
  {
   "cell_type": "code",
   "execution_count": 10,
   "metadata": {},
   "outputs": [],
   "source": [
    "def conv_net(inp, weight_dict, bias_dict):\n",
    "    # Convolution Layer 1\n",
    "    conv1 = conv2d(inp, weight_dict['filterWC1'], bias_dict['filterBC1'])\n",
    "    conv1 = maxpool2d(conv1, ksize=2)\n",
    "    \n",
    "    # Convolution Layer 2\n",
    "    conv2 = conv2d(conv1, weight_dict['filterWC2'], bias_dict['filterBC2'])\n",
    "    conv2 = maxpool2d(conv2, ksize=2)\n",
    "    \n",
    "    # Flatten the convolution layer output\n",
    "    flatten_layer = flatten(conv2, weight_dict['fullyConnW'].get_shape().as_list()[0])\n",
    "    \n",
    "    # Fully Connected Layer\n",
    "    fc1 = fc(flatten_layer, weight_dict['fullyConnW'], bias_dict['fullyConnB'])\n",
    "    \n",
    "    # Output, class prediction\n",
    "    out_layer = out(fc1, weight_dict['OutputW'], bias_dict['OutputB'])\n",
    "    \n",
    "    return out_layer\n",
    "    "
   ]
  },
  {
   "cell_type": "markdown",
   "metadata": {},
   "source": [
    "### 5.3. Loss and Optimizer"
   ]
  },
  {
   "cell_type": "code",
   "execution_count": 11,
   "metadata": {},
   "outputs": [],
   "source": [
    "# Define placeholders\n",
    "x = tf.placeholder(tf.float32, [None, image_hgt, image_wid, 1])\n",
    "y = tf.placeholder(tf.float32, [None, n_classes])"
   ]
  },
  {
   "cell_type": "code",
   "execution_count": 12,
   "metadata": {},
   "outputs": [
    {
     "name": "stdout",
     "output_type": "stream",
     "text": [
      "WARNING:tensorflow:From <ipython-input-12-c6781f5697ab>:5: softmax_cross_entropy_with_logits (from tensorflow.python.ops.nn_ops) is deprecated and will be removed in a future version.\n",
      "Instructions for updating:\n",
      "\n",
      "Future major versions of TensorFlow will allow gradients to flow\n",
      "into the labels input on backprop by default.\n",
      "\n",
      "See `tf.nn.softmax_cross_entropy_with_logits_v2`.\n",
      "\n"
     ]
    }
   ],
   "source": [
    "# Prediction\n",
    "pred = conv_net(x, weight_dict, bias_dict)\n",
    "\n",
    "# Define the Cost function\n",
    "cost = tf.reduce_mean(tf.nn.softmax_cross_entropy_with_logits(logits=pred, labels=y))\n",
    "\n",
    "# Define the optimizer\n",
    "optimizer = tf.train.AdamOptimizer(learning_rate).minimize(cost)"
   ]
  },
  {
   "cell_type": "markdown",
   "metadata": {},
   "source": [
    "### 5.4. Model Evaluation"
   ]
  },
  {
   "cell_type": "code",
   "execution_count": 13,
   "metadata": {},
   "outputs": [],
   "source": [
    "# Here you check whether the index of the maximum value of the predicted image \n",
    "# is equal to the actual labelled image and both will be a column vector\n",
    "correct_prediction = tf.equal(tf.argmax(pred, 1), tf.argmax(y, 1))\n",
    "\n",
    "# Calculate accuracy across all the given images and average them out. \n",
    "accuracy = tf.reduce_mean(tf.cast(correct_prediction, tf.float32))"
   ]
  },
  {
   "cell_type": "markdown",
   "metadata": {},
   "source": [
    "## 6. TensorFlow session"
   ]
  },
  {
   "cell_type": "code",
   "execution_count": null,
   "metadata": {},
   "outputs": [
    {
     "name": "stdout",
     "output_type": "stream",
     "text": [
      "Epoch 0, Loss = nan, Training Accuracy = nan\n",
      "Testing Accuracy: 0.87400\n"
     ]
    }
   ],
   "source": [
    "init = tf.global_variables_initializer()\n",
    "\n",
    "with tf.Session() as sess:\n",
    "    # Variable must be initialized before a graph is used for the first time.\n",
    "    sess.run(init)\n",
    "    train_loss_list = []\n",
    "    test_loss_list = []\n",
    "    train_accuracy_list = []\n",
    "    test_accuracy_list = []\n",
    "    summary_writer = tf.summary.FileWriter('./Output', sess.graph)\n",
    "    \n",
    "    for epoch in range(epochs):\n",
    "        for batch in range(len(train_X//batch_size)):\n",
    "            batch_x = train_X[batch*batch_size:min(((batch+1)*batch_size), len(train_X))]\n",
    "            batch_y = train_Y[batch*batch_size:min(((batch+1)*batch_size), len(train_Y))]\n",
    "            \n",
    "            opt = sess.run(optimizer, feed_dict = {x:batch_x, y:batch_y})\n",
    "            train_loss, train_acc = sess.run([cost, accuracy], feed_dict = {x:batch_x, y:batch_y})\n",
    "            \n",
    "        print(\"Epoch \" + str(epoch) + \", Loss = {:.6f}\".format(train_loss) + \", Training Accuracy = {:.5f}\".format(train_acc))\n",
    "        \n",
    "        \n",
    "        # Calclate accuracy for all test images\n",
    "        test_loss, test_acc = sess.run([cost, accuracy], feed_dict = {x:test_X, y:test_Y})\n",
    "        print(\"Testing Accuracy: {:.5f}\".format(test_acc))\n",
    "        \n",
    "        train_loss_list.append(train_loss)\n",
    "        test_loss_list.append(test_loss)\n",
    "        train_accuracy_list.append(train_acc)\n",
    "        test_accuracy_list.append(test_acc)\n",
    "        \n",
    "    summary_writer.close()        "
   ]
  },
  {
   "cell_type": "markdown",
   "metadata": {},
   "source": [
    "## 7. Visualize Loss"
   ]
  },
  {
   "cell_type": "code",
   "execution_count": null,
   "metadata": {},
   "outputs": [],
   "source": [
    "plt.plot(range(epochs), train_loss, 'b', label='Training Loss')\n",
    "plt.plot(range(epochs), test_loss, 'r', label='Test Loss')\n",
    "plt.title('Training and Test Loss')\n",
    "plt.xlabel('Epochs ',fontsize=16)\n",
    "plt.ylabel('Loss',fontsize=16)\n",
    "plt.legend()\n",
    "plt.figure()\n",
    "plt.show()\n",
    "\n",
    "plt.plot(range(epochs), train_accuracy, 'b', label='Training Accuracy')\n",
    "plt.plot(range(epochs), test_accuracy, 'r', label='Test Accuracy')\n",
    "plt.title('Training and Test Accuracy')\n",
    "plt.xlabel('Epochs ',fontsize=16)\n",
    "plt.ylabel('Loss',fontsize=16)\n",
    "plt.legend()\n",
    "plt.figure()\n",
    "plt.show()"
   ]
  }
 ],
 "metadata": {
  "kernelspec": {
   "display_name": "Python 3",
   "language": "python",
   "name": "python3"
  },
  "language_info": {
   "codemirror_mode": {
    "name": "ipython",
    "version": 3
   },
   "file_extension": ".py",
   "mimetype": "text/x-python",
   "name": "python",
   "nbconvert_exporter": "python",
   "pygments_lexer": "ipython3",
   "version": "3.7.4"
  }
 },
 "nbformat": 4,
 "nbformat_minor": 2
}
